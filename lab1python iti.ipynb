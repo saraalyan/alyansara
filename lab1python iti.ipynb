{
  "nbformat": 4,
  "nbformat_minor": 0,
  "metadata": {
    "colab": {
      "provenance": [],
      "authorship_tag": "ABX9TyPx57KoV8tUVLk+liTDOJW/",
      "include_colab_link": true
    },
    "kernelspec": {
      "name": "python3",
      "display_name": "Python 3"
    },
    "language_info": {
      "name": "python"
    }
  },
  "cells": [
    {
      "cell_type": "markdown",
      "metadata": {
        "id": "view-in-github",
        "colab_type": "text"
      },
      "source": [
        "<a href=\"https://colab.research.google.com/github/saraalyan/alyansara/blob/main/lab1python%20iti.ipynb\" target=\"_parent\"><img src=\"https://colab.research.google.com/assets/colab-badge.svg\" alt=\"Open In Colab\"/></a>"
      ]
    },
    {
      "cell_type": "code",
      "execution_count": null,
      "metadata": {
        "id": "fK-kNATPmMQ6"
      },
      "outputs": [],
      "source": []
    },
    {
      "cell_type": "code",
      "source": [
        "word=\"sara sayed\"\n",
        "reverse_Word=word[::-1]\n",
        "print (reverse_Word)"
      ],
      "metadata": {
        "colab": {
          "base_uri": "https://localhost:8080/"
        },
        "id": "ZJlEMTfrmVPs",
        "outputId": "f8dd5373-f691-4222-de61-6bebafad4f0b"
      },
      "execution_count": 2,
      "outputs": [
        {
          "output_type": "stream",
          "name": "stdout",
          "text": [
            "deyas aras\n"
          ]
        }
      ]
    },
    {
      "cell_type": "code",
      "source": [
        "num=int(input(\"enter  number\"))\n",
        "tables=[]\n",
        "for i in range(1,num+1):\n",
        "    table=[]\n",
        "    for j in range(1,i+1):\n",
        "        table.append(j*i);\n",
        "    tables.append(table)\n",
        "\n",
        "print(tables)"
      ],
      "metadata": {
        "colab": {
          "base_uri": "https://localhost:8080/"
        },
        "id": "eKjTGlK0meas",
        "outputId": "9d3c4ce6-bda5-4215-c9b0-c3193695a7c7"
      },
      "execution_count": 10,
      "outputs": [
        {
          "output_type": "stream",
          "name": "stdout",
          "text": [
            "Please enter number4\n",
            "[[1], [2, 4], [3, 6, 9], [4, 8, 12, 16]]\n"
          ]
        }
      ]
    },
    {
      "cell_type": "code",
      "source": [
        "num=int(input(\"enter number\"));\n",
        "for i in range(num+1):\n",
        "    for j in range(num-i):\n",
        "        print(\" \",end=\"\")\n",
        "    for j in range(i):\n",
        "        print(\"*\",end=\"\")\n",
        "    print(\"\");"
      ],
      "metadata": {
        "colab": {
          "base_uri": "https://localhost:8080/"
        },
        "id": "MC29jpDWnLkd",
        "outputId": "352a0aa1-6b3f-49c7-8bd3-f270a838fd3e"
      },
      "execution_count": 13,
      "outputs": [
        {
          "output_type": "stream",
          "name": "stdout",
          "text": [
            "enter number4\n",
            "    \n",
            "   *\n",
            "  **\n",
            " ***\n",
            "****\n"
          ]
        }
      ]
    }
  ]
}